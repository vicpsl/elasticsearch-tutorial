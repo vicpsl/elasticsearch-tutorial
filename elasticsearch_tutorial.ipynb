{
 "cells": [
  {
   "cell_type": "markdown",
   "id": "7ea5f350-c886-412f-997d-3ab74a8344d7",
   "metadata": {},
   "source": [
    "# Tutorial to Elasticsearch indexation\n",
    "## Part 1: Intro to Elasticsearch\n",
    "\n",
    "Welcome to the Elasticsearch indexation Tutorial!\n",
    "\n",
    "By the end of this workshop, you will be able to:\n",
    "\n",
    "- [understand the basics of Elasticsearch](#Understanding-the-basics-of-Elasticsearch)\n",
    "- get a high level understanding of the architecture of Elasticsearch\n",
    "- perform basic CRUD (Create, Read, Update, and Delete) operations with Elasticsearch\n"
   ]
  },
  {
   "cell_type": "markdown",
   "id": "cddb0959-d675-4380-a204-9ee66e553dc5",
   "metadata": {},
   "source": [
    "### Understanding the basics of Elasticsearch"
   ]
  },
  {
   "cell_type": "markdown",
   "id": "0e6b9fc2-b7ac-4ab3-af30-e6f2cd4161be",
   "metadata": {},
   "source": [
    "#### `What is ElasticSearch?`\n",
    "\n",
    "When people ask, *“what is Elasticsearch?”,* some may answer that:\n",
    "*  It’s “an index”, \n",
    "*  A \"search engine”, \n",
    "*  An “analytics database”, \n",
    "*  A \"big data solution”, \n",
    "*  that “it’s fast and scalable”,\n",
    "*  or that “it’s kind of like Google”. \n",
    "\n",
    "- **Elasticsearch is simple to configure, has incredible flexibility, and is an excellent tool for complex searches**. Let's take a closer look. \n",
    "> Depending on your level of familiarity with this technology, these answers may either bring you closer to an ah-ha moment or further confuse you. But the truth is, all of these answers are correct and that’s part of the appeal of Elasticsearch.\n",
    "\n",
    "![elk](https://github.com/exajobs/elasticsearch-collection/blob/main/img/ELK.png)\n",
    "\n",
    "- [Elasticsearch](https://blog.avenuecode.com/elasticsearch) is a distributed, open-source search and analytics engine built on Apache Lucene and developed in Java. . It was developed in Java and is designed to operate in real time. It can search and index document files in diverse formats. It was designed to be used in distributed environments by providing flexibility and scalability. Now, Elasticsearch is a widely popular enterprise search engine. Elasticsearch allows you to store, search, and analyze huge volumes of data quickly and in near real-time and give back answers in milliseconds. \n",
    "\n",
    "##### `How does it work?`\n",
    "\n",
    "To help understand how Elasticsearch handles data, we can make an analogy to a database.\n",
    "\n",
    "- Elasticsearch stores the data using the \"schema-less\" concept. This means that it is not necessary to define the structure of the data that will be entered in advance, as happens with relational databases known in the market: Oracle, MySQL, and SQLServer, among others.\n",
    "\n",
    "In our analogy of traditional relational databases, the structure of the data used by [Elasticsearch](https://logz.io/blog/10-elasticsearch-concepts/) would be:\n",
    "\n",
    "![analogy](https://github.com/exajobs/elasticsearch-collection/blob/main/img/4.png)\n",
    "\n",
    "- **Index:** - Indices, the largest unit of data in Elasticsearch, are logical partitions of documents and can be compared to a database in the world of relational databases. More on [indices](#indices)\n",
    "![analogy](https://github.com/exajobs/elasticsearch-collection/blob/main/img/3.png)\n",
    "\n",
    "- **Type:** - A type in Elasticsearch represents a class of similar documents. A type consists of a name—such as user or blog post—and a mapping.\n",
    "- **Documents:** - A document in Lucene consists of a simple list of field-value pairs. A field must have at least one value, but any field can contain multiple values.\n",
    "- **Fields:** - Are columns in Elasticsearch.\n",
    "\n",
    "![shards](https://github.com/exajobs/elasticsearch-collection/blob/main/img/2.png)\n",
    "\n",
    "- **Cluster:** - A cluster is a collection of one or more servers that together hold entire data and give federated indexing and search capabilities across all servers. For relational databases, the node is DB Instance. There can be N nodes with the same cluster name.\n",
    "- **Node:** - A node is a single server that holds some data and participates in the cluster’s indexing and querying. A node can be configured to join a specific cluster by the particular cluster name. A single cluster can have as many nodes as we want. A node is simply one Elasticsearch instance.\n",
    "- **Shard** - A shard is a subset of documents of an index. An index can be divided into many shards.\n",
    "- **Replica Shard:** - The main purpose of replicas is for failover: if the node holding a primary shard dies, a replica is promoted to the role of primary; replica shard is the copy of primary shard and serves to prevent data loss in case of hardware failure.\n",
    "\n",
    "\n",
    "#### `Table of contents`\n",
    "- [Elasticsearch Introduction](#what-is-elastic-search)\n",
    "- Elasticsearch Architecture\n",
    "  - [Indices](#indices)\n",
    "  - Types\n",
    "  - Documents\n",
    "  - Fields\n",
    "  - Cluster\n",
    "  - Shard\n",
    "  - Replica Shards\n",
    "- [Elasticsearch Queries](#elasticsearch-queries)\n",
    "- APIs\n",
    "- [Elastic Stack](#elastic-stack)  \n",
    "  -  Kibana\n",
    "  -  Beats\n",
    "  -  Logstash\n",
    "- Books\n",
    "- Certifications\n",
    "- Elasticsearch developer tools and utilities\n",
    "- Elasticsearch Use cases\n",
    "\n",
    "\n",
    "#### `Elastic Architecture`\n",
    "\n",
    "##### `Indices`\n",
    "Indices, the largest unit of data in Elasticsearch, are logical partitions of documents and can be compared to a database in the world of relational databases.\n",
    "\n",
    "Continuing our e-commerce app example, you could have one index containing all of the data related to the products and another with all of the data related to the customers.\n",
    "You can have as many indices defined in Elasticsearch as you want. These in turn will hold documents that are unique to each index. Indices are identified by lowercase names that refer to actions that are performed actions (such as searching and deleting) on the documents that are inside each index.\n",
    "For a list of best practices in handling indices, check out the blog Managing an Elasticsearch Index. Another key element to getting how Elasticsearch’s indices work is to get a handle on shards.\n",
    "\n",
    " - [Best Practices for Managing Elasticsearch Indices](https://logz.io/blog/managing-elasticsearch-indices/) - Understanding indices\n",
    "\n",
    "\n",
    "\n",
    "\n",
    "#### APIs\n",
    "\n",
    "\n",
    "####  Elasticsearch Queries\n",
    "Elasticsearch provides a full Query DSL (Domain Specific Language) based on JSON to define queries. Think of the Query DSL as an AST (Abstract Syntax Tree) of queries, consisting of two types of clauses:\n",
    "\n",
    "![queries](https://github.com/exajobs/elasticsearch-collection/blob/main/img/5-queries.png)\n",
    "\n",
    "\n"
   ]
  },
  {
   "cell_type": "code",
   "execution_count": 1,
   "id": "0b9ae972-4f90-4380-aa31-9f8b5f006ff5",
   "metadata": {},
   "outputs": [
    {
     "name": "stdout",
     "output_type": "stream",
     "text": [
      "The history saving thread hit an unexpected error (OperationalError('attempt to write a readonly database')).History will not be written to the database.\n",
      "{'name': 'PORT-RECH01', 'cluster_name': 'elasticsearch', 'cluster_uuid': 'vGCaiZbkSg2xEDTmljOIRQ', 'version': {'number': '8.13.0', 'build_flavor': 'default', 'build_type': 'deb', 'build_hash': '09df99393193b2c53d92899662a8b8b3c55b45cd', 'build_date': '2024-03-22T03:35:46.757803203Z', 'build_snapshot': False, 'lucene_version': '9.10.0', 'minimum_wire_compatibility_version': '7.17.0', 'minimum_index_compatibility_version': '7.0.0'}, 'tagline': 'You Know, for Search'}\n"
     ]
    }
   ],
   "source": [
    "from elasticsearch import Elasticsearch\n",
    "\n",
    "es = Elasticsearch(\"http://localhost:9200\")\n",
    "print(es.info().body)"
   ]
  },
  {
   "cell_type": "code",
   "execution_count": 2,
   "id": "4545bebc-76a6-4582-af06-610e5ae8ccd7",
   "metadata": {},
   "outputs": [
    {
     "name": "stdout",
     "output_type": "stream",
     "text": [
      "health status index                              uuid                   pri rep docs.count docs.deleted store.size pri.store.size dataset.size\n",
      "yellow open   dicotopo__development__places      iQFTZk_rQlGR07i_T3yABA   1   1    1207647        66305    247.8mb        247.8mb      247.8mb\n",
      "yellow open   encpos_document                    M0U4tb5EQgOvTySt8YSo1w   1   1       2996            0     71.6mb         71.6mb       71.6mb\n",
      "yellow open   lettres__development__collections  mpJH2xwtTjyHPghL8XgFog   1   1          4            0      7.3kb          7.3kb        7.3kb\n",
      "yellow open   lettres__development__documents    ZYsbdt7CSM-B3DwgCh24VA   1   1      12820            4     43.5mb         43.5mb       43.5mb\n",
      "yellow open   lettres__development__institutions Njmoh7qTTTSjxQsGf_0Uzw   1   1          3            0      6.1kb          6.1kb        6.1kb\n",
      "yellow open   lettres__development__languages    0bhHX_gMSLmnolm1HiuCTA   1   1          3            0      6.5kb          6.5kb        6.5kb\n",
      "yellow open   lettres__development__persons      2AKcbDptSMmoYZaLzK2pxA   1   1        302            0       76kb           76kb         76kb\n",
      "yellow open   lettres__development__placenames   cBaAvvIdRlS54FHui6OtyQ   1   1        124            0     73.6kb         73.6kb       73.6kb\n",
      "yellow open   lettres__development__users        3joxl-fdTLu_cHUe4Vn7bg   1   1          7            0      7.6kb          7.6kb        7.6kb\n",
      "yellow open   lettres__development__witnesses    nvz9I2ipRByIofr4Ns7tnQ   1   1      28166            0      2.9mb          2.9mb        2.9mb\n",
      "yellow open   miroir_document                    snLGUibdRBaEpbyZWSGW-w   1   1         27            0      9.2mb          9.2mb        9.2mb\n",
      "\n"
     ]
    }
   ],
   "source": [
    "print(es.cat.indices(index=\"*\", s='index', pri=True, v=True))"
   ]
  },
  {
   "cell_type": "code",
   "execution_count": null,
   "id": "5e99c073-502f-44b7-b9c5-ac38a10f7d23",
   "metadata": {},
   "outputs": [],
   "source": []
  },
  {
   "cell_type": "markdown",
   "id": "ee5aa270-c78c-4aff-af7d-e931cb81c91c",
   "metadata": {},
   "source": [
    "### Test the basics of Elasticsearch"
   ]
  },
  {
   "cell_type": "code",
   "execution_count": null,
   "id": "1272920f-9cb5-4fbb-945b-7e38b8bf1b90",
   "metadata": {},
   "outputs": [],
   "source": []
  },
  {
   "cell_type": "code",
   "execution_count": null,
   "id": "5f7cecb4-3870-457e-aa50-69d6fbd81042",
   "metadata": {},
   "outputs": [],
   "source": []
  }
 ],
 "metadata": {
  "kernelspec": {
   "display_name": "Python 3 (ipykernel)",
   "language": "python",
   "name": "python3"
  },
  "language_info": {
   "codemirror_mode": {
    "name": "ipython",
    "version": 3
   },
   "file_extension": ".py",
   "mimetype": "text/x-python",
   "name": "python",
   "nbconvert_exporter": "python",
   "pygments_lexer": "ipython3",
   "version": "3.10.12"
  }
 },
 "nbformat": 4,
 "nbformat_minor": 5
}
