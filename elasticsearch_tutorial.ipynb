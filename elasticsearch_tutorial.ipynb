{
 "cells": [
  {
   "cell_type": "markdown",
   "id": "7ea5f350-c886-412f-997d-3ab74a8344d7",
   "metadata": {},
   "source": [
    "# Tutorial to Elasticsearch indexation\n",
    "## Part 1: Intro to Elasticsearch\n",
    "\n",
    "Welcome to the Elasticsearch indexation Tutorial!\n",
    "\n",
    "By the end of this workshop, you will be able to:\n",
    "\n",
    "- [understand the basics of Elasticsearch](#Understanding-the-basics-of-Elasticsearch)\n",
    "- get a high level understanding of the architecture of Elasticsearch\n",
    "- perform basic CRUD (Create, Read, Update, and Delete) operations with Elasticsearch\n"
   ]
  },
  {
   "cell_type": "markdown",
   "id": "cddb0959-d675-4380-a204-9ee66e553dc5",
   "metadata": {},
   "source": [
    "### Understanding the basics of Elasticsearch"
   ]
  },
  {
   "cell_type": "markdown",
   "id": "0e6b9fc2-b7ac-4ab3-af30-e6f2cd4161be",
   "metadata": {
    "editable": true,
    "slideshow": {
     "slide_type": ""
    },
    "tags": []
   },
   "source": [
    "<base target=\"_blank\">\n",
    "#### `What is ElasticSearch?`\n",
    "\n",
    "<center><b><i>You know, for search (and analysis)<i></b></center>\n",
    "<center><img src=\"./img/ELK.png\" alt=\"ES_logo\" style=\"width:400px;\"/></center>\n",
    "\n",
    "First released in Feb. 2010 by Shay Banon ([see wiki article](https://fr.wikipedia.org/wiki/Elasticsearch)), ES is a solution built to use JSON via HTTP requests, so the search engine can be used with any programming language.  \n",
    "As a result, Elasticsearch has a wide range of client libraries in many programming languages, such as Java, Python, Javascript(.NodeJS), Ruby, PHP, .NET, Perl, Go...  \n",
    "\n",
    "[Elasticsearch](https://www.elastic.co/guide/en/elasticsearch/reference/current/elasticsearch-intro.html) is:\n",
    "- a distributed, open-source<a name=\"cite_ref-1\"></a>[<sup>[1]</sup>](#cite_note-1) search and analytics engine, developed in Java\n",
    "\n",
    "- an engine processing and returning JSON data : suitable for many data types (text, numbers, dates, geospatial data, (un)structured data, nested data)\n",
    "\n",
    "- a document-oriented NoSQL engine capable of indexing and searching document files, built on Apache Lucene inverted indexes\n",
    "\n",
    "- running in [near real-time](https://www.elastic.co/guide/en/elasticsearch/reference/current/near-real-time.html) (indexed and fully searchable within 1 second)\n",
    "\n",
    "- provided with extensive REST APIs for storing and searching the data\n",
    "\n",
    "<small><a name=\"cite_note-1\"></a>1. [^](#cite_ref-1) Elasticsearch is no longer a fully open-source component. In January 2021, Elastic announced that Elasticsearch and Kibana (as of the 7.11 release) would move to a proprietary dual license (under the SSPL license) and away from the open source Apache-2.0 license. This prompted AWS to fork Elasticsearch and Kibana into OpenSearch and OpenSearch Dashboards, which fulfills the same use cases of the ELK Stack under the open source Apache 2.0 license.</small>\n",
    "\n",
    "\n",
    "**Elasticsearch allows you to store, search, and analyze huge volumes of data quickly and give back answers in milliseconds.**\n",
    "\n",
    "\n",
    "##### `Use cases`\n",
    "\n",
    "Elasticsearch is perfect for storing unstructured data, then retrieving data when needed with blazing speed via its search engine capabilities built on Apache Lucene. By that means, Elasticsearch is perfect for these types of systems:\n",
    "\n",
    "- Logging and Log Analysis\n",
    "- Scraping and Combining Public Data\n",
    "- Full-Text Search (e-commerce search, enterprise search, etc.)\n",
    "- Data and Metrics\n",
    "- Data Visualizing Data\n",
    "- System Observability\n",
    "- Security (threat hunting and prevention)\n",
    "\n",
    "Many systems and applications benefit from Elasticsearch and the [ELK stack](https://www.elastic.co/industries), in the various areas such as Business Data Analytics, Security and Fraud Detection, Geospatial Applications, Cybersecurity, Public Safety and Emergency Response, Logistics, Analyzing scientific data, Machine Learning/Artificial Intelligence, IoT...\n",
    "\n",
    "Elasticsearch is a widely popular enterprise search engine used by companies like Uber, Netflix, Medium, LinkedIn, StackOverFlow, etc. for a variety of use cases.\n",
    "\n",
    "\n",
    "##### `How does it work?`\n",
    "\n",
    "To help understand how Elasticsearch works, let’s cover some basic concepts of how it organizes data and its backend components.\n",
    "\n",
    "- **Logical concepts** from the bottom up:\n",
    "\n",
    "    - **Fields**: fields or smallest individual units of data from records, similar to columns of a table in a relational database. These are the key/value pairs of the input JSON.  \n",
    "      Each field has a defined datatype including core datatypes (strings, numbers, dates, booleans), complex datatypes (object and nested), geo datatypes (get_point and geo_shape), and specialized datatypes (token count, join, rank feature, dense vector, flattened, etc.). See the full list [here](https://www.elastic.co/guide/en/elasticsearch/reference/current/mapping-types.html).\n",
    "\n",
    "    - **Documents**: records in an index just like a row in a relational database.\n",
    "      Each document has a JSON format (global internet data interchange format), a unique *_id* associated to it and pertains to a specific (mapping in the) *index*.  \n",
    "      Document example:\n",
    "      ```\n",
    "      {\n",
    "          \"teamName\":\"Mission projets numérique\",\n",
    "          \"teamNickname\":\"Dream Team\",\n",
    "          \"members\":\n",
    "          [  \n",
    "              {\n",
    "                  \"firstName\":\"Vincent\",\n",
    "                  \"position\":\"Chef\"\n",
    "              },\n",
    "              {  \n",
    "                 \"firstName\":\"Lucas\",\n",
    "                 \"position\":\"Beautiful AI\"\n",
    "              },\n",
    "              {  \n",
    "                 \"firstName\":\"Philippe\",\n",
    "                 \"position\":\"DoTSerisator\"\n",
    "              },\n",
    "              {  \n",
    "                 \"firstName\":\"Victor\",\n",
    "                 \"position\":\"ES guru\"\n",
    "              }\n",
    "          ]\n",
    "      }\n",
    "      ```\n",
    "\n",
    "    - **Index / Indices**: documents are grouped into indices, similar to databases' tables, based on their characteristics. In an e-commerce context, you could have a *products* index, a *customers* index and an *orders* index.  \n",
    "      An index is the highest level entity that you can query against in ES. Indices are identified by lowercase names that are used when performing various actions (such as searching and deleting) against the indexed documents.\n",
    "\n",
    "    - **Mapping(s)**: an index mapping defines how a document and its fields are indexed and stored, by defining fields' datatypes and how fields should be handled by Elasticsearch.\n",
    "      Althought it is not required to define the data's structure beforehand, unlike tables' schemas in relational databases, Elasticsearch will automatically infer datatypes from the intput if a mapping is not provided (this is called [Dynamic mapping](https://www.elastic.co/guide/en/elasticsearch/reference/current/dynamic-mapping.html)).\n",
    "      However, to increase performance and/or save disk space, it is important to declare explicit indices' mappings.  \n",
    "      Fields can (and often should) be indexed in more than one way for different purposes (full text search, aggregations, sorting). For instance, an input string field could be mapped as a text field for full-text search, and as a keyword field for sorting or aggregations.\n",
    "\n",
    "    In our analogy of traditional relational databases, the structure of the data used by [Elasticsearch](https://logz.io/blog/10-elasticsearch-concepts/) would be:\n",
    "\n",
    "<center><img src=\"./img/4.png\" alt=\"ES_RDB_concepts\" style=\"width:400px;\"/></center>  \n",
    "\n",
    "   This is a summarized view of the logical layout ES, but it doesn't tell how Elasticsearch handles your data in the background, which determines its performance, scalability, and availability.  \n",
    "\n",
    "- **Back-end components in Elasticsearch**:\n",
    "\n",
    "    - **Lucene** search engines: behind the scenes, ES (as many of other prime search engines like Solr, MongoDB, etc.) uses Lucene search engines. Read more about [Lucene](https://en.wikipedia.org/wiki/Apache_Lucene).  \n",
    "      An ES index is sort of an abstraction because Elasticsearch partitions indices into smaller units called [shards](#shards), allowing data to be distributed across multiple servers for scalability.  \n",
    "      These shards can also be replicated to ensure data reliability and availability in case of node failure.  \n",
    "      Shards are the “real” search engines. Queries to an index’s contents are routed to its shards, each of which is actually a Lucene instance or Lucene index.  \n",
    "      All the data in Elasticsearch is internally stored in sharded Apache Lucene indexes. ***Although data is stored in Apache Lucene, Elasticsearch is what makes it distributed*** and provides the easy-to-use APIs.\n",
    "      \n",
    "    - <a name=\"shards\"></a>**Shards**: an instance of Lucene holding a subset of documents of an index. An index can be divided into many shards.\n",
    "        - **shard segments**: each shard is further distributed in segments, where the data is indexed using inverted indexes.  \n",
    "      As a shard grows, its segments are merged into fewer, larger segments.  \n",
    "      It is the key aspect that facilitates Elasticsearch horizontal scaling by distributing data across nodes, helping fast search and analysis across smaller indices.<br/><br/>\n",
    "\n",
    "    - **Replica Shard**: the main purpose of replicas is for failover: if the node holding a primary shard dies, a replica is promoted to the role of primary; replica shard is the copy of primary shard and serves to prevent data loss in case of hardware failure.  \n",
    "    <center><img src=\"./img/elasticsearchArchitecture.png\" alt=\"ES_Backend\" style=\"width:800px;\"/></center>  \n",
    "      \n",
    "    - **Node**: a node is simply one Elasticsearch instance that holds some data and participates in the cluster’s indexing and querying. A node belongs to a single cluster. A single cluster can have as many nodes as we want.\n",
    "    \n",
    "    - **Cluster**: a collection of one or more connected servers that together hold the entire data and give federated indexing and search capabilities across all servers. For relational databases, the node is DB Instance. There can be N nodes with the same cluster name.\n",
    "\n",
    "    Elasticsearch’s distributed architecture helps the rapid search and analysis of massive amounts of data with almost real-time performance. But this is not the only aspect supporting these capabilities. Let's see how in works.\n",
    "\n",
    "- **Indexing process in Elasticsearch**:  \n",
    "  Elasticsearch uses inverted indices, a data structure that maps words to their document locations, for an efficient search.   \n",
    "    \n",
    "    - **Data ingestion analysis**: when we index documents in Elasticsearch, a preliminary analysis is performed by [Analyzers](https://www.elastic.co/guide/en/elasticsearch/reference/current/analysis-overview.html).  \n",
    "       Elasticsearch uses by default a [standard analyzer](https://www.elastic.co/guide/en/elasticsearch/reference/current/analysis-standard-analyzer.html), but we can also choose a different one amongst [built-in analyzers](https://www.elastic.co/guide/en/elasticsearch/reference/current/analysis-analyzers.html) or create a [custom analyzer](https://www.elastic.co/guide/en/elasticsearch/reference/current/analysis-custom-analyzer.html) throught the index settings [analyzer parameter](https://www.elastic.co/guide/en/elasticsearch/reference/current/analyzer.html).  \n",
    "      Here's a basic example:      \n",
    "      <center><img src=\"./img/elasticsearchAnalyzers.png\" alt=\"ES_Analyzers\" style=\"width:800px;\"/></center>  \n",
    "      \n",
    "      **NB**: in our context, alongside the standard *html_strip* filter, we often use a *\\_french_* stopwords built-in filter, a *french_elision* custom filter, as well as an *icu_folding* [plugin filter](https://www.elastic.co/guide/en/elasticsearch/plugins/current/analysis-icu.html).  \n",
    "\n",
    "    - **Inverted index**: we brieflly mentioned that indices' data is processed to inverted indexes in the shard (Lucene indices) segments.\n",
    "      Here's how:  \n",
    "\n",
    "\n",
    "#### `Table of contents`\n",
    "- [Elasticsearch Introduction](#what-is-elastic-search)\n",
    "- Elasticsearch Architecture\n",
    "  - [Indices](#indices)\n",
    "  - Types\n",
    "  - Documents\n",
    "  - Fields\n",
    "  - Cluster\n",
    "  - Shard\n",
    "  - Replica Shards\n",
    "- [Elasticsearch Queries](#elasticsearch-queries)\n",
    "- APIs\n",
    "- [Elastic Stack](#elastic-stack)  \n",
    "  -  Kibana\n",
    "  -  Beats\n",
    "  -  Logstash\n",
    "- Books\n",
    "- Certifications\n",
    "- Elasticsearch developer tools and utilities\n",
    "- Elasticsearch Use cases\n",
    "\n",
    "\n",
    "#### `Elastic Architecture`\n",
    "\n",
    "##### `Indices`\n",
    "Indices, the largest unit of data in Elasticsearch, are logical partitions of documents and can be compared to a database in the world of relational databases.\n",
    "\n",
    "Continuing our e-commerce app example, you could have one index containing all of the data related to the products and another with all of the data related to the customers.\n",
    "You can have as many indices defined in Elasticsearch as you want. These in turn will hold documents that are unique to each index. Indices are identified by lowercase names that refer to actions that are performed actions (such as searching and deleting) on the documents that are inside each index.\n",
    "For a list of best practices in handling indices, check out the blog Managing an Elasticsearch Index. Another key element to getting how Elasticsearch’s indices work is to get a handle on shards.\n",
    "\n",
    " - [Best Practices for Managing Elasticsearch Indices](https://logz.io/blog/managing-elasticsearch-indices/) - Understanding indices\n",
    "\n",
    "\n",
    "\n",
    "\n",
    "#### APIs\n",
    "\n",
    "\n",
    "####  Elasticsearch Queries\n",
    "Elasticsearch provides a full Query DSL (Domain Specific Language) based on JSON to define queries. Think of the Query DSL as an AST (Abstract Syntax Tree) of queries, consisting of two types of clauses:\n",
    "\n",
    "<center><img src=\"./img/5-queries.png\" alt=\"ES_Queries\" style=\"width:800px;\"/></center>\n",
    "\n"
   ]
  },
  {
   "cell_type": "code",
   "execution_count": 1,
   "id": "0b9ae972-4f90-4380-aa31-9f8b5f006ff5",
   "metadata": {},
   "outputs": [
    {
     "name": "stdout",
     "output_type": "stream",
     "text": [
      "{'name': 'PORT-RECH01', 'cluster_name': 'elasticsearch', 'cluster_uuid': 'vGCaiZbkSg2xEDTmljOIRQ', 'version': {'number': '8.13.0', 'build_flavor': 'default', 'build_type': 'deb', 'build_hash': '09df99393193b2c53d92899662a8b8b3c55b45cd', 'build_date': '2024-03-22T03:35:46.757803203Z', 'build_snapshot': False, 'lucene_version': '9.10.0', 'minimum_wire_compatibility_version': '7.17.0', 'minimum_index_compatibility_version': '7.0.0'}, 'tagline': 'You Know, for Search'}\n"
     ]
    }
   ],
   "source": [
    "from elasticsearch import Elasticsearch\n",
    "\n",
    "es = Elasticsearch(\"http://localhost:9200\")\n",
    "print(es.info().body)"
   ]
  },
  {
   "cell_type": "code",
   "execution_count": 2,
   "id": "4545bebc-76a6-4582-af06-610e5ae8ccd7",
   "metadata": {},
   "outputs": [
    {
     "name": "stdout",
     "output_type": "stream",
     "text": [
      "health status index                              uuid                   pri rep docs.count docs.deleted store.size pri.store.size dataset.size\n",
      "yellow open   dicotopo__development__places      iQFTZk_rQlGR07i_T3yABA   1   1    1207647        66305    247.8mb        247.8mb      247.8mb\n",
      "yellow open   encpos_document                    M0U4tb5EQgOvTySt8YSo1w   1   1       2996            0     71.6mb         71.6mb       71.6mb\n",
      "yellow open   lettres__development__collections  mpJH2xwtTjyHPghL8XgFog   1   1          4            0      7.3kb          7.3kb        7.3kb\n",
      "yellow open   lettres__development__documents    ZYsbdt7CSM-B3DwgCh24VA   1   1      12820            4     43.5mb         43.5mb       43.5mb\n",
      "yellow open   lettres__development__institutions Njmoh7qTTTSjxQsGf_0Uzw   1   1          3            0      6.1kb          6.1kb        6.1kb\n",
      "yellow open   lettres__development__languages    0bhHX_gMSLmnolm1HiuCTA   1   1          3            0      6.5kb          6.5kb        6.5kb\n",
      "yellow open   lettres__development__persons      2AKcbDptSMmoYZaLzK2pxA   1   1        302            0       76kb           76kb         76kb\n",
      "yellow open   lettres__development__placenames   cBaAvvIdRlS54FHui6OtyQ   1   1        124            0     73.6kb         73.6kb       73.6kb\n",
      "yellow open   lettres__development__users        3joxl-fdTLu_cHUe4Vn7bg   1   1          7            0      7.6kb          7.6kb        7.6kb\n",
      "yellow open   lettres__development__witnesses    nvz9I2ipRByIofr4Ns7tnQ   1   1      28166            0      2.9mb          2.9mb        2.9mb\n",
      "yellow open   miroir_document                    snLGUibdRBaEpbyZWSGW-w   1   1         27            0      9.2mb          9.2mb        9.2mb\n",
      "\n"
     ]
    }
   ],
   "source": [
    "print(es.cat.indices(index=\"*\", s='index', pri=True, v=True))"
   ]
  },
  {
   "cell_type": "code",
   "execution_count": 2,
   "id": "5e99c073-502f-44b7-b9c5-ac38a10f7d23",
   "metadata": {},
   "outputs": [
    {
     "name": "stdout",
     "output_type": "stream",
     "text": [
      "The current working directory is: /home/jboby/Documents/Documentation/elasticsearch_tutorial\n"
     ]
    }
   ],
   "source": [
    "import os\n",
    "\n",
    "\n",
    "\n",
    "current_directory = os.getcwd()\n",
    "\n",
    "\n",
    "\n",
    "print(\"The current working directory is:\", current_directory)\n"
   ]
  },
  {
   "cell_type": "markdown",
   "id": "ee5aa270-c78c-4aff-af7d-e931cb81c91c",
   "metadata": {},
   "source": [
    "### Test the basics of Elasticsearch"
   ]
  },
  {
   "cell_type": "code",
   "execution_count": null,
   "id": "1272920f-9cb5-4fbb-945b-7e38b8bf1b90",
   "metadata": {},
   "outputs": [],
   "source": []
  },
  {
   "cell_type": "code",
   "execution_count": null,
   "id": "5f7cecb4-3870-457e-aa50-69d6fbd81042",
   "metadata": {},
   "outputs": [],
   "source": []
  }
 ],
 "metadata": {
  "kernelspec": {
   "display_name": "Python 3 (ipykernel)",
   "language": "python",
   "name": "python3"
  },
  "language_info": {
   "codemirror_mode": {
    "name": "ipython",
    "version": 3
   },
   "file_extension": ".py",
   "mimetype": "text/x-python",
   "name": "python",
   "nbconvert_exporter": "python",
   "pygments_lexer": "ipython3",
   "version": "3.10.12"
  }
 },
 "nbformat": 4,
 "nbformat_minor": 5
}
