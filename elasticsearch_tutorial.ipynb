{
 "cells": [
  {
   "cell_type": "markdown",
   "id": "7ea5f350-c886-412f-997d-3ab74a8344d7",
   "metadata": {},
   "source": [
    "# Tutorial to Elasticsearch indexation\n",
    "## Part 1: Intro to Elasticsearch\n",
    "\n",
    "Welcome to the Elasticsearch indexation Tutorial!\n",
    "\n",
    "By the end of this workshop, you will be able to:\n",
    "\n",
    "- understand the basics of Elasticsearch\n",
    "- get a high level understanding of the architecture of Elasticsearch\n",
    "- perform basic CRUD (Create, Read, Update, and Delete) operations with Elasticsearch\n"
   ]
  },
  {
   "cell_type": "markdown",
   "id": "cddb0959-d675-4380-a204-9ee66e553dc5",
   "metadata": {},
   "source": []
  },
  {
   "cell_type": "code",
   "execution_count": 1,
   "id": "0b9ae972-4f90-4380-aa31-9f8b5f006ff5",
   "metadata": {},
   "outputs": [
    {
     "name": "stdout",
     "output_type": "stream",
     "text": [
      "{'name': 'PORT-RECH01', 'cluster_name': 'elasticsearch', 'cluster_uuid': 'vGCaiZbkSg2xEDTmljOIRQ', 'version': {'number': '8.12.2', 'build_flavor': 'default', 'build_type': 'deb', 'build_hash': '48a287ab9497e852de30327444b0809e55d46466', 'build_date': '2024-02-19T10:04:32.774273190Z', 'build_snapshot': False, 'lucene_version': '9.9.2', 'minimum_wire_compatibility_version': '7.17.0', 'minimum_index_compatibility_version': '7.0.0'}, 'tagline': 'You Know, for Search'}\n"
     ]
    }
   ],
   "source": [
    "from elasticsearch import Elasticsearch\n",
    "\n",
    "es = Elasticsearch(\"http://localhost:9200\")\n",
    "print(es.info().body)"
   ]
  },
  {
   "cell_type": "code",
   "execution_count": 8,
   "id": "4545bebc-76a6-4582-af06-610e5ae8ccd7",
   "metadata": {},
   "outputs": [
    {
     "name": "stdout",
     "output_type": "stream",
     "text": [
      "1711545103 13:11:43 elasticsearch yellow 1 1 11 11 0 0 11 0 - 50.0%\n",
      "\n"
     ]
    }
   ],
   "source": [
    "print(es.cat.health())"
   ]
  },
  {
   "cell_type": "code",
   "execution_count": null,
   "id": "5e99c073-502f-44b7-b9c5-ac38a10f7d23",
   "metadata": {},
   "outputs": [],
   "source": []
  },
  {
   "cell_type": "code",
   "execution_count": null,
   "id": "7fd651df-6988-4726-a7d2-1c7bce662f35",
   "metadata": {},
   "outputs": [],
   "source": []
  }
 ],
 "metadata": {
  "kernelspec": {
   "display_name": "Python 3 (ipykernel)",
   "language": "python",
   "name": "python3"
  },
  "language_info": {
   "codemirror_mode": {
    "name": "ipython",
    "version": 3
   },
   "file_extension": ".py",
   "mimetype": "text/x-python",
   "name": "python",
   "nbconvert_exporter": "python",
   "pygments_lexer": "ipython3",
   "version": "3.10.12"
  }
 },
 "nbformat": 4,
 "nbformat_minor": 5
}
